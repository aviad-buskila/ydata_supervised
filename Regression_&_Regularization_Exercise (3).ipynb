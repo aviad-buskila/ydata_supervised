{
  "cells": [
    {
      "cell_type": "markdown",
      "metadata": {
        "id": "chEqqJbLzFew"
      },
      "source": [
        "# Yandex Data Science School\n",
        "## Linear Regression & Regularization Exercise.\n",
        "\n",
        "\n",
        "## Outline\n",
        "In this exercise you will learn the following topics:\n",
        "\n",
        "1. Refresher on how linear regression is solved in batch and in Gradient Descent \n",
        "2. Implementation of Ridge Regression\n",
        "3. Comparing Ridge, Lasso and vanila Linear Regression on a dataset"
      ]
    },
    {
      "cell_type": "markdown",
      "metadata": {
        "id": "306dzTSCdLwV"
      },
      "source": [
        "# Git Exercise\n",
        "In this exercise you will also experience working with github.\n",
        "\n",
        "You might need to install local python enviroment.\n",
        "Installation Instruction for ex2 - working on a local python environment:\n",
        "https://docs.google.com/document/d/1G0rBo36ff_9JzKy0EkCalK4m_ThNUuJ2bRz463EHK9I\n",
        "\n",
        "## please add the github link of your work below:\n"
      ]
    },
    {
      "cell_type": "markdown",
      "metadata": {
        "id": "IlDhSQKBdLwV"
      },
      "source": [
        "example: https://github.com/username/exercise_name"
      ]
    },
    {
      "cell_type": "markdown",
      "metadata": {
        "id": "mR9UFmk2greT"
      },
      "source": [
        "## Refresher on Ordinary Least Square (OLS) aka Linear Regeression\n",
        "\n",
        "### Lecture Note\n",
        "\n",
        "In Matrix notation, the matrix $X$ is of dimensions $n \\times p$ where each row is an example and each column is a feature dimension. \n",
        "\n",
        "Similarily, $y$ is of dimension $n \\times 1$ and $w$ is of dimensions $p \\times 1$.\n",
        "\n",
        "The model is $\\hat{y}=X\\cdot w$ where we assume for simplicity that $X$'s first columns equals to 1 (one padding), to account for the bias term.\n",
        "\n",
        "Our objective is to optimize the loss $L$ defines as resiudal sum of squares (RSS): \n",
        "\n",
        "$L_{RSS}=\\frac{1}{N}\\left\\Vert Xw-y \\right\\Vert^2$ (notice that in matrix notation this means summing over all examples, so $L$ is scalar.)\n",
        "\n",
        "To find the optimal $w$ one needs to derive the loss with respect to $w$.\n",
        "\n",
        "$\\frac{\\partial{L_{RSS}}}{\\partial{w}}=\\frac{2}{N}X^T(Xw-y)$ (to see why, read about [matrix derivatives](http://www.gatsby.ucl.ac.uk/teaching/courses/sntn/sntn-2017/resources/Matrix_derivatives_cribsheet.pdf) or see class notes )\n",
        "\n",
        "Thus, the gardient descent solution is $w'=w-\\alpha \\frac{2}{N}X^T(Xw-y)$.\n",
        "\n",
        "Solving $\\frac{\\partial{L_{RSS}}}{\\partial{w}}=0$ for $w$ one can also get analytical solution:\n",
        "\n",
        "$w_{OLS}=(X^TX)^{-1}X^Ty$\n",
        "\n",
        "The first term, $(X^TX)^{-1}X^T$ is also called the pseudo inverse of $X$.\n",
        "\n",
        "See [lecture note from Stanford](https://web.stanford.edu/~mrosenfe/soc_meth_proj3/matrix_OLS_NYU_notes.pdf) for more details.\n"
      ]
    },
    {
      "cell_type": "markdown",
      "metadata": {
        "id": "JA3MEKz80vdy"
      },
      "source": [
        "## Exercise 1 - Ordinary Least Square\n",
        "* Get the boston housing dataset by using the scikit-learn package. hint: [load_boston](http://scikit-learn.org/stable/modules/generated/sklearn.datasets.load_boston.html)\n",
        "\n",
        "* What is $p$? what is $n$ in the above notation? hint: [shape](https://docs.scipy.org/doc/numpy-1.15.0/reference/generated/numpy.ndarray.shape.html)\n",
        "\n",
        "* write a model `OrdinaryLinearRegression` which has a propoery $w$ and 3 methods: `fit`, `predict` and `score` (which returns the MSE on a given sample set). Hint: use [numpy.linalg.pinv](https://docs.scipy.org/doc/numpy-1.15.1/reference/generated/numpy.linalg.pinv.html) to be more efficient.\n",
        "\n",
        "* Fit the model. What is the training MSE?\n",
        "\n",
        "* Plot a scatter plot where on x-axis plot $Y$ and in the y-axis $\\hat{Y}_{OLS}$\n",
        "\n",
        "* Split the data to 75% train and 25% test 20 times. What is the average MSE now for train and test? Hint: use [train_test_split](http://scikit-learn.org/stable/modules/generated/sklearn.model_selection.train_test_split.html) or [ShuffleSplit](http://scikit-learn.org/stable/modules/generated/sklearn.model_selection.ShuffleSplit.html).\n",
        "\n",
        "* Use a t-test to proove that the MSE for training is significantly smaller than for testing. What is the p-value? Hint: use [scipy.stats.ttest_rel](https://docs.scipy.org/doc/scipy-0.14.0/reference/generated/scipy.stats.ttest_rel.html). \n",
        "\n",
        "* Write a new class `OrdinaryLinearRegressionGradientDescent` which inherits from `OrdinaryLinearRegression` and solves the problem using gradinet descent. The class should get as a parameter the learning rate and number of iteration. Plot the class convergance. What is the effect of learning rate? How would you find number of iteration automatically? Note: Gradient Descent does not work well when features are not scaled evenly (why?!). Be sure to normalize your features first.\n",
        "\n",
        "* The following parameters are optional (not mandatory to use):\n",
        "    * early_stop - True / False boolean to indicate to stop running when loss stops decaying and False to continue.\n",
        "    * verbose- True/False boolean to turn on / off logging, e.g. print details like iteration number and loss (https://en.wikipedia.org/wiki/Verbose_mode)\n",
        "    * track_loss - True / False boolean when to save loss results to present later in learning curve graphs"
      ]
    },
    {
      "cell_type": "markdown",
      "metadata": {
        "id": "MQWmaElgdLwW"
      },
      "source": [
        "## Ordinary Least Square - starting here"
      ]
    },
    {
      "cell_type": "markdown",
      "metadata": {
        "id": "DXrt7d7zdLwX"
      },
      "source": [
        "Q: Get the boston housing dataset by using the scikit-learn package. hint: load_boston"
      ]
    },
    {
      "cell_type": "code",
      "execution_count": 89,
      "metadata": {
        "id": "TnC1jUrxdLwX"
      },
      "outputs": [],
      "source": [
        "import pandas as pd\n",
        "import numpy as np\n",
        "import matplotlib.pyplot as plt\n",
        "import seaborn as sns\n",
        "# from sklearn.metrics import mean_squared_error\n",
        "from sklearn.preprocessing import normalize\n",
        "from sklearn.model_selection import train_test_split\n",
        "from sklearn.model_selection import ShuffleSplit\n",
        "%matplotlib inline\n",
        "\n",
        "RANDOM_SEED = 101\n",
        "\n",
        "def get_data():\n",
        "    from sklearn.datasets import load_boston\n",
        "    boston_dataset = load_boston()\n",
        "    X = pd.DataFrame(boston_dataset.data, columns=boston_dataset.feature_names).values\n",
        "    y = boston_dataset.target\n",
        "    return X, y"
      ]
    },
    {
      "cell_type": "code",
      "source": [
        "def mean_squared_error(y_pred, y_test):\n",
        "  mse = (np.square(y_test - y_pred)).mean().astype('float128')\n",
        "  return mse"
      ],
      "metadata": {
        "id": "D4NFoA5kqLY6"
      },
      "execution_count": 90,
      "outputs": []
    },
    {
      "cell_type": "code",
      "source": [
        "# a = np.array([[1,2],[1,1]])\n",
        "# b = np.array([[1,0],[0,1]])\n",
        "# print(mean_squared_error(a,b))\n",
        "# print(bla_mean_squared_error(a,b))"
      ],
      "metadata": {
        "id": "ByWcEXX-qorS"
      },
      "execution_count": 91,
      "outputs": []
    },
    {
      "cell_type": "markdown",
      "metadata": {
        "id": "OBoKnUqPdLwY"
      },
      "source": [
        "Q: What is  𝑝 ? what is  𝑛  in the above notation? hint: shape"
      ]
    },
    {
      "cell_type": "code",
      "execution_count": 92,
      "metadata": {
        "colab": {
          "base_uri": "https://localhost:8080/"
        },
        "id": "SHBRrrc-dLwY",
        "outputId": "d684d2d2-8d28-4810-9239-429b3f7a2edd"
      },
      "outputs": [
        {
          "output_type": "stream",
          "name": "stdout",
          "text": [
            "n = 506\n",
            "p = 13\n"
          ]
        },
        {
          "output_type": "stream",
          "name": "stderr",
          "text": [
            "/usr/local/lib/python3.8/dist-packages/sklearn/utils/deprecation.py:87: FutureWarning: Function load_boston is deprecated; `load_boston` is deprecated in 1.0 and will be removed in 1.2.\n",
            "\n",
            "    The Boston housing prices dataset has an ethical problem. You can refer to\n",
            "    the documentation of this function for further details.\n",
            "\n",
            "    The scikit-learn maintainers therefore strongly discourage the use of this\n",
            "    dataset unless the purpose of the code is to study and educate about\n",
            "    ethical issues in data science and machine learning.\n",
            "\n",
            "    In this special case, you can fetch the dataset from the original\n",
            "    source::\n",
            "\n",
            "        import pandas as pd\n",
            "        import numpy as np\n",
            "\n",
            "\n",
            "        data_url = \"http://lib.stat.cmu.edu/datasets/boston\"\n",
            "        raw_df = pd.read_csv(data_url, sep=\"\\s+\", skiprows=22, header=None)\n",
            "        data = np.hstack([raw_df.values[::2, :], raw_df.values[1::2, :2]])\n",
            "        target = raw_df.values[1::2, 2]\n",
            "\n",
            "    Alternative datasets include the California housing dataset (i.e.\n",
            "    :func:`~sklearn.datasets.fetch_california_housing`) and the Ames housing\n",
            "    dataset. You can load the datasets as follows::\n",
            "\n",
            "        from sklearn.datasets import fetch_california_housing\n",
            "        housing = fetch_california_housing()\n",
            "\n",
            "    for the California housing dataset and::\n",
            "\n",
            "        from sklearn.datasets import fetch_openml\n",
            "        housing = fetch_openml(name=\"house_prices\", as_frame=True)\n",
            "\n",
            "    for the Ames housing dataset.\n",
            "    \n",
            "  warnings.warn(msg, category=FutureWarning)\n"
          ]
        }
      ],
      "source": [
        "X, y = get_data()\n",
        "n = X.shape[0]\n",
        "p = X.shape[1]\n",
        "print(f'n = {n}')\n",
        "print(f'p = {p}')"
      ]
    },
    {
      "cell_type": "markdown",
      "metadata": {
        "id": "iQya7nvPdLwZ"
      },
      "source": [
        "Q: write a model OrdinaryLinearRegression which has a propoery  𝑤  and 3 methods: fit, predict and score (which returns the MSE on a given sample set). Hint: use numpy.linalg.pinv to be more efficient."
      ]
    },
    {
      "cell_type": "code",
      "execution_count": 93,
      "metadata": {
        "id": "ZuSS8LhcfZdn"
      },
      "outputs": [],
      "source": [
        "# * write a model `Ols` which has a propoery $w$ and 3 methods: `fit`, `predict` and `score`.? hint: use [numpy.linalg.pinv](https://docs.scipy.org/doc/numpy-1.15.1/reference/generated/numpy.linalg.pinv.html) to be more efficient.\n",
        "\n",
        "        \n",
        "class Ols(object):\n",
        "    \n",
        "    def __init__(self):\n",
        "        self.w = None\n",
        "        \n",
        "    @staticmethod\n",
        "    def pad(X):\n",
        "        n = X.shape[0]\n",
        "        pad = np.ones((n, 1))\n",
        "        return np.concatenate((pad, X), axis=1)\n",
        "  \n",
        "    def fit(self, X, Y):\n",
        "        X = Ols.pad(X)\n",
        "        self.w = np.linalg.pinv(self._fit(X, Y)) @ X.T @ Y\n",
        "    \n",
        "    def _fit(self, X, Y):\n",
        "        return X.T @ X \n",
        "    \n",
        "    def predict(self, X):\n",
        "        X = Ols.pad(X)\n",
        "        return X @ self.w.T\n",
        "\n",
        "    def _predict(self, X):\n",
        "        # optional to use this\n",
        "        pass\n",
        "    \n",
        "    def score(self, X, Y):\n",
        "        y_pred = self.predict(X)\n",
        "        return mean_squared_error(Y, y_pred)\n"
      ]
    },
    {
      "cell_type": "code",
      "execution_count": 94,
      "metadata": {
        "id": "xZR5f7RSdLwZ"
      },
      "outputs": [],
      "source": [
        "X_train, X_test, y_train, y_test = train_test_split(X, y, test_size=0.2, random_state=RANDOM_SEED)"
      ]
    },
    {
      "cell_type": "markdown",
      "metadata": {
        "id": "MYPVJXnAdLwZ"
      },
      "source": [
        "Q: Fit the model. What is the training MSE?"
      ]
    },
    {
      "cell_type": "code",
      "execution_count": 95,
      "metadata": {
        "id": "23jNOzkbdLwa"
      },
      "outputs": [],
      "source": [
        "ols_model = Ols()\n",
        "ols_model.fit(X_train, y_train)"
      ]
    },
    {
      "cell_type": "code",
      "execution_count": 96,
      "metadata": {
        "colab": {
          "base_uri": "https://localhost:8080/"
        },
        "id": "fi4Cnn-LdLwa",
        "outputId": "a7f8db6f-cf84-4a5e-cba9-cd13852c2d62"
      },
      "outputs": [
        {
          "output_type": "stream",
          "name": "stdout",
          "text": [
            "The mse of our implementation 33.268918558104176\n"
          ]
        }
      ],
      "source": [
        "mse_ols = ols_model.score(X_test, y_test)\n",
        "print(f'The mse of our implementation {mse_ols}')"
      ]
    },
    {
      "cell_type": "code",
      "execution_count": 97,
      "metadata": {
        "colab": {
          "base_uri": "https://localhost:8080/"
        },
        "id": "agKnhS5kdLwa",
        "outputId": "ec392ead-ca56-4472-a46b-ec72a90af9f1"
      },
      "outputs": [
        {
          "output_type": "stream",
          "name": "stdout",
          "text": [
            "The mse of sklearn implementation 33.2689185579199\n"
          ]
        }
      ],
      "source": [
        "def compare_to_sklearn_LinearRegression():\n",
        "    from sklearn.linear_model import LinearRegression\n",
        "    lm = LinearRegression()\n",
        "    lm.fit(X_train,y_train)\n",
        "    y_pred_sklearn = lm.predict(X_test)\n",
        "    mse_sklearn = mean_squared_error(y_test, y_pred_sklearn)\n",
        "    print(f'The mse of sklearn implementation {mse_sklearn}')\n",
        "\n",
        "compare_to_sklearn_LinearRegression()\n"
      ]
    },
    {
      "cell_type": "markdown",
      "metadata": {
        "id": "gNCSh4N5dLwa"
      },
      "source": [
        "Q: Plot a scatter plot where on x-axis plot $Y$ and in the y-axis $\\hat{Y}_{OLS}$"
      ]
    },
    {
      "cell_type": "code",
      "execution_count": 98,
      "metadata": {
        "colab": {
          "base_uri": "https://localhost:8080/",
          "height": 296
        },
        "id": "QGC9oFCidLwa",
        "outputId": "a45127fc-e6f8-4819-c35c-f0a6fdd0e915"
      },
      "outputs": [
        {
          "output_type": "execute_result",
          "data": {
            "text/plain": [
              "Text(0, 0.5, 'Predicted Y')"
            ]
          },
          "metadata": {},
          "execution_count": 98
        },
        {
          "output_type": "display_data",
          "data": {
            "text/plain": [
              "<Figure size 432x288 with 1 Axes>"
            ],
            "image/png": "[encoded data removed]"
          },
          "metadata": {
            "needs_background": "light"
          }
        }
      ],
      "source": [
        "y_pred = ols_model.predict(X_test)\n",
        "\n",
        "plt.scatter(y_test, y_pred)\n",
        "plt.xlabel('Y Test')\n",
        "plt.ylabel('Predicted Y')"
      ]
    },
    {
      "cell_type": "markdown",
      "metadata": {
        "id": "o-v1uXC-dLwb"
      },
      "source": [
        "Q: Split the data to 75% train and 25% test 20 times. What is the average MSE now for train and test? Hint: use [train_test_split](http://scikit-learn.org/stable/modules/generated/sklearn.model_selection.train_test_split.html) or [ShuffleSplit](http://scikit-learn.org/stable/modules/generated/sklearn.model_selection.ShuffleSplit.html)."
      ]
    },
    {
      "cell_type": "code",
      "execution_count": 99,
      "metadata": {
        "colab": {
          "base_uri": "https://localhost:8080/"
        },
        "id": "nXXCwoVTdLwb",
        "outputId": "fc732ae4-cfb5-4488-a441-da2c659afbe8"
      },
      "outputs": [
        {
          "output_type": "stream",
          "name": "stdout",
          "text": [
            "the avg MSE of train is 21.38569415396384\n",
            "the avg MSE of test is 24.499635911211417\n"
          ]
        }
      ],
      "source": [
        "\n",
        "def get_mse_train_test(num_of_iterations=20):\n",
        "    X_cv, y_cv = X, y\n",
        "    mse_arr_train_cv = []\n",
        "    mse_arr_test_cv = []\n",
        "    rs = ShuffleSplit(n_splits=num_of_iterations, random_state=RANDOM_SEED, test_size=0.25, train_size=None)\n",
        "\n",
        "    for i, (train_index, test_index) in enumerate(rs.split(X)):\n",
        "        ols_model_cv = Ols()\n",
        "        X_train_cv = X_cv[train_index]\n",
        "        y_train_cv = y_cv[train_index]\n",
        "\n",
        "        X_test_cv = X_cv[test_index]\n",
        "        y_test_cv = y_cv[test_index]\n",
        "\n",
        "        ols_model_cv.fit(X_train_cv, y_train_cv)\n",
        "\n",
        "        mse_ols_train_cv = ols_model_cv.score(X_train_cv, y_train_cv)\n",
        "        mse_arr_train_cv.append(mse_ols_train_cv)\n",
        "\n",
        "        mse_ols_test_cv = ols_model_cv.score(X_test_cv, y_test_cv)\n",
        "        mse_arr_test_cv.append(mse_ols_test_cv)\n",
        "    return mse_arr_train_cv, mse_arr_test_cv\n",
        "\n",
        "mse_ols_train_cv, mse_arr_test_cv = get_mse_train_test()\n",
        "print(f'the avg MSE of train is {np.mean(mse_ols_train_cv)}')\n",
        "print(f'the avg MSE of test is {np.mean(mse_arr_test_cv)}')"
      ]
    },
    {
      "cell_type": "markdown",
      "metadata": {
        "id": "UGN4WHzWdLwb"
      },
      "source": [
        "Q: * Use a t-test to proove that the MSE for training is significantly smaller than for testing. What is the p-value? Hint: use [scipy.stats.ttest_rel](https://docs.scipy.org/doc/scipy-0.14.0/reference/generated/scipy.stats.ttest_rel.html). \n"
      ]
    },
    {
      "cell_type": "code",
      "execution_count": 100,
      "metadata": {
        "colab": {
          "base_uri": "https://localhost:8080/"
        },
        "id": "xANra4AmdLwb",
        "outputId": "2c455de3-ca9a-4a06-9d5d-18e60666a669"
      },
      "outputs": [
        {
          "output_type": "stream",
          "name": "stdout",
          "text": [
            "0.004273134886224433\n"
          ]
        }
      ],
      "source": [
        "from scipy import stats\n",
        "np.random.seed(RANDOM_SEED)\n",
        "\n",
        "# n_samples = 1000\n",
        "# mse_ols_train_cv = get_mse_train_test(n_samples)[0]\n",
        "# mse_arr_test_cv = get_mse_train_test(n_samples)[1]\n",
        "# mse_ols_train_cv, mse_arr_test_cv = get_mse_train_test()\n",
        "p_value = stats.ttest_rel(mse_ols_train_cv, mse_arr_test_cv)[1]\n",
        "print(p_value)"
      ]
    },
    {
      "cell_type": "code",
      "execution_count": 101,
      "metadata": {
        "id": "9g3YVbjddLwb"
      },
      "outputs": [],
      "source": [
        "from sklearn.preprocessing import normalize"
      ]
    },
    {
      "cell_type": "code",
      "execution_count": 102,
      "metadata": {
        "id": "kXzE7gdZdLwc"
      },
      "outputs": [],
      "source": [
        "# Write a new class OlsGd which solves the problem using gradinet descent. \n",
        "# The class should get as a parameter the learning rate and number of iteration. \n",
        "# Plot the loss convergance. for each alpha, learning rate plot the MSE with respect to number of iterations.\n",
        "# What is the effect of learning rate? \n",
        "# How would you find number of iteration automatically? \n",
        "# Note: Gradient Descent does not work well when features are not scaled evenly (why?!). Be sure to normalize your feature first.\n",
        "class Normalizer():\n",
        "    def __init__(self):\n",
        "        pass \n",
        "\n",
        "    def fit(self, X): # todo\n",
        "        # self.m = np.mean(X, axis=0)\n",
        "        # self.s = np.std(X, axis=0)\n",
        "        pass\n",
        "     \n",
        "    def predict(self, X):\n",
        "        # return (X-self.m) / self.s\n",
        "        return normalize(X)\n",
        "    \n",
        "class OlsGd(Ols):\n",
        "    def __init__(self, learning_rate=.05, \n",
        "               num_iteration=1000, \n",
        "               normalize=True,\n",
        "               early_stop=True,\n",
        "               verbose=True):\n",
        "    \n",
        "        super(OlsGd, self).__init__()\n",
        "        self.learning_rate = learning_rate\n",
        "        self.num_iteration = num_iteration\n",
        "        self.early_stop = early_stop\n",
        "        self.normalize = normalize\n",
        "        self.normalizer = Normalizer()    \n",
        "        self.verbose = verbose\n",
        "\n",
        "    def _fit(self, X, Y, reset=True, track_loss=True):\n",
        "        if self.normalize:\n",
        "          self.normalizer.fit(X)\n",
        "          X = self.normalizer.predict(X)\n",
        "        X = self.pad(X)\n",
        "        self.w = X[np.random.randint(X.shape[0] - 1)]\n",
        "        for i in range(self.num_iteration):\n",
        "            w_div = self._step(X, Y)\n",
        "            self.w = self.w - ((self.learning_rate * (1/X.shape[0])) * w_div)\n",
        "        return\n",
        "    \n",
        "    def _predict(self, X):\n",
        "    #remeber to normalize the data before starting\n",
        "        if self.normalize:\n",
        "          self.normalizer.fit(X)\n",
        "          X = self.normalizer.predict(X)\n",
        "        return self.predict(X)\n",
        "    \n",
        "    def _step(self, X, Y):\n",
        "    # use w update for gradient descent\n",
        "        return X.T @ (( X @ self.w) - Y)\n"
      ]
    },
    {
      "cell_type": "code",
      "execution_count": 102,
      "metadata": {
        "id": "Z4Apcnb1dLwc"
      },
      "outputs": [],
      "source": []
    },
    {
      "cell_type": "markdown",
      "metadata": {
        "id": "NwxaCHykdLwc"
      },
      "source": [
        "Q - Plot the loss convergance. for each alpha, learning rate plot the MSE with respect to number of iterations."
      ]
    },
    {
      "cell_type": "code",
      "execution_count": 103,
      "metadata": {
        "id": "X17O_jGPdLwc"
      },
      "outputs": [],
      "source": [
        "def plot_with_respect_to_iter(num_iteration):\n",
        "    alphas = np.linspace(0.05, 1, 100)\n",
        "    res_arr = []\n",
        "    for alpha in alphas:\n",
        "        olsGd_model = OlsGd(alpha, num_iteration = num_iteration)\n",
        "        olsGd_model._fit(X_train, y_train)\n",
        "        mse = olsGd_model.score(X_test, y_test)\n",
        "        res_arr.append([alpha, mse])\n",
        "    res = np.array(res_arr)\n",
        "    plt.plot(res[:, :1], res[:, 1:])\n",
        "    plt.xlabel(\"alpha\")\n",
        "    plt.ylabel(\"mse\")\n",
        "    plt.title(f\"mse using {num_iteration} iterartions\")\n",
        "    plt.show()"
      ]
    },
    {
      "cell_type": "code",
      "execution_count": 104,
      "metadata": {
        "colab": {
          "base_uri": "https://localhost:8080/",
          "height": 1000
        },
        "id": "wIyZyrvOdLwd",
        "outputId": "a5aa66b7-8024-4b4e-d384-aaf6223109bd"
      },
      "outputs": [
        {
          "output_type": "display_data",
          "data": {
            "text/plain": [
              "<Figure size 432x288 with 1 Axes>"
            ],
            "image/png": "[encoded data removed]"
          },
          "metadata": {
            "needs_background": "light"
          }
        },
        {
          "output_type": "display_data",
          "data": {
            "text/plain": [
              "<Figure size 432x288 with 1 Axes>"
            ],
            "image/png": "[encoded data removed]"
          },
          "metadata": {
            "needs_background": "light"
          }
        },
        {
          "output_type": "display_data",
          "data": {
            "text/plain": [
              "<Figure size 432x288 with 1 Axes>"
            ],
            "image/png": "[encoded data removed]"
          },
          "metadata": {
            "needs_background": "light"
          }
        },
        {
          "output_type": "display_data",
          "data": {
            "text/plain": [
              "<Figure size 432x288 with 1 Axes>"
            ],
            "image/png": "[encoded data removed]"
          },
          "metadata": {
            "needs_background": "light"
          }
        },
        {
          "output_type": "display_data",
          "data": {
            "text/plain": [
              "<Figure size 432x288 with 1 Axes>"
            ],
            "image/png": "[encoded data removed]"
          },
          "metadata": {
            "needs_background": "light"
          }
        },
        {
          "output_type": "display_data",
          "data": {
            "text/plain": [
              "<Figure size 432x288 with 1 Axes>"
            ],
            "image/png": "[encoded data removed]"
          },
          "metadata": {
            "needs_background": "light"
          }
        },
        {
          "output_type": "display_data",
          "data": {
            "text/plain": [
              "<Figure size 432x288 with 1 Axes>"
            ],
            "image/png": "[encoded data removed]"
          },
          "metadata": {
            "needs_background": "light"
          }
        },
        {
          "output_type": "display_data",
          "data": {
            "text/plain": [
              "<Figure size 432x288 with 1 Axes>"
            ],
            "image/png": "[encoded data removed]"
          },
          "metadata": {
            "needs_background": "light"
          }
        },
        {
          "output_type": "display_data",
          "data": {
            "text/plain": [
              "<Figure size 432x288 with 1 Axes>"
            ],
            "image/png": "[encoded data removed]"
          },
          "metadata": {
            "needs_background": "light"
          }
        }
      ],
      "source": [
        "num_iteration_arr = np.arange(1, 10) * 200\n",
        "for i in num_iteration_arr:\n",
        "    plot_with_respect_to_iter(i)"
      ]
    },
    {
      "cell_type": "markdown",
      "metadata": {
        "id": "fy6v8z8ydLwd"
      },
      "source": [
        "Q - What is the effect of learning rate? "
      ]
    },
    {
      "cell_type": "markdown",
      "metadata": {
        "id": "43N6ktfKdLwd"
      },
      "source": [
        "The combination of a large num_iteration and a large alpha causes us to miss / go beyond the minimal point of W.\n",
        "On the other hand, when using a small num_iteration and a small alpha we are very far from the the minimum of W, and we're going towards it too slow."
      ]
    },
    {
      "cell_type": "markdown",
      "metadata": {
        "id": "ffaaMH1NdLwd"
      },
      "source": [
        "Q - How would you find number of iteration automatically?"
      ]
    },
    {
      "cell_type": "markdown",
      "metadata": {
        "id": "EX_09u1rdLwd"
      },
      "source": [
        "Both alpha and number of iteration are hyper-params, and we should find them using the **validatoin** set.\n",
        "Meaning, we should take our train data, split it to train & validation, find the hyper params that are minimizing the MSE and the, use the alpha and hyper number of itterations which led to this MSE. "
      ]
    },
    {
      "cell_type": "markdown",
      "metadata": {
        "id": "7HVfnXvZFi98"
      },
      "source": [
        "## Exercise 2 - Ridge Linear Regression\n",
        "\n",
        "Recall that ridge regression is identical to OLS but with a L2 penalty over the weights:\n",
        "\n",
        "$L(y,\\hat{y})=\\sum_{i=1}^{i=N}{(y^{(i)}-\\hat{y}^{(i)})^2} + \\lambda \\left\\Vert w \\right\\Vert_2^2$\n",
        "\n",
        "where $y^{(i)}$ is the **true** value and $\\hat{y}^{(i)}$ is the **predicted** value of the $i_{th}$ example, and $N$ is the number of examples\n",
        "\n",
        "* Show, by differentiating the above loss, that the analytical solution is $w_{Ridge}=(X^TX+\\lambda I)^{-1}X^Ty$\n",
        "* Change `OrdinaryLinearRegression` and `OrdinaryLinearRegressionGradientDescent` classes to work also for ridge regression (do not use the random noise analogy but use the analytical derivation). Either add a parameter, or use inheritance.\n",
        "* **Bonus: Noise as a regularizer**: Show that OLS (ordinary least square), if one adds multiplicative noise to the features the **average** solution for $W$ is equivalent to Ridge regression. In other words, if $X'= X*G$ where $G$ is an uncorrelated noise with variance $\\sigma$ and mean 1, then solving for $X'$ with OLS is like solving Ridge for $X$. What is the interpretation? \n",
        "\n"
      ]
    },
    {
      "cell_type": "markdown",
      "metadata": {
        "id": "EUS5s7lJdLwe"
      },
      "source": [
        "Q - * Show, by differentiating the above loss, that the analytical solution is $w_{Ridge}=(X^TX+\\lambda I)^{-1}X^Ty$"
      ]
    },
    {
      "cell_type": "markdown",
      "metadata": {
        "id": "tpThE8yydLwe"
      },
      "source": [
        "we saw in class - diffrentiating \n",
        "$(1/2) * \\sum_{i=1}^{i=N}{(y^{(i)}-\\hat{y}^{(i)})^2} $ \n",
        "by w =  \n",
        "$ X^T(Xw - y)$\n",
        "and diffrentiating\n",
        "$(1/2) * \\sum_{i=1}^{i=N}\\lambda \\left\\Vert w \\right\\Vert_2^2$ by w = lambda * w =>\n",
        "X.T(Xw-y) + lambda * w = 0 \n",
        "<=>\n",
        "X.T*X*w - X.T*y + labda * w = 0 \n",
        "<=>\n",
        "X.T*X*w + labda * w = X.T*y \n",
        "<=>\n",
        "(X.T*X + lambda * ide_mat) * w = X.T*y \n",
        "<=> *\n",
        "w = inv(X.T*X + lambda * ide_mat) * X.T*y \n",
        "* assuming inv(X.T*X + lambda * ide_mat) exists"
      ]
    },
    {
      "cell_type": "markdown",
      "metadata": {
        "id": "Atcl4y6GdLwe"
      },
      "source": [
        "Q - Change OrdinaryLinearRegression and OrdinaryLinearRegressionGradientDescent classes to work also for ridge regression (do not use the random noise analogy but use the analytical derivation). Either add a parameter, or use inheritance."
      ]
    },
    {
      "cell_type": "code",
      "execution_count": 105,
      "metadata": {
        "id": "-Q5of728dLwe"
      },
      "outputs": [],
      "source": [
        "class RidgeLs(Ols):\n",
        "    def __init__(self, ridge_lambda, *wargs, **kwargs):\n",
        "        super(RidgeLs,self).__init__(*wargs, **kwargs)\n",
        "        self.ridge_lambda = ridge_lambda\n",
        "    \n",
        "    def _fit(self, X, Y):\n",
        "        #Closed form of ridge regression\n",
        "        return X.T @ X + self.ridge_lambda * np.identity(X.shape[1])\n",
        "    "
      ]
    },
    {
      "cell_type": "code",
      "execution_count": 106,
      "metadata": {
        "id": "_geFigH5dLwe"
      },
      "outputs": [],
      "source": [
        "class RidgeLsGd(OlsGd):\n",
        "    def __init__(self, ridge_lambda, *wargs, **kwargs):\n",
        "        super(RidgeLsGd,self).__init__(*wargs, **kwargs)\n",
        "        self.ridge_lambda = ridge_lambda\n",
        "    \n",
        "    def _step(self, X, Y):\n",
        "    # use w update for gradient descent\n",
        "        return (X.T @ (( X @ self.w) - Y)) + (self.ridge_lambda * self.w)"
      ]
    },
    {
      "cell_type": "code",
      "execution_count": 107,
      "metadata": {
        "colab": {
          "base_uri": "https://localhost:8080/"
        },
        "id": "-BqOv6RodLwf",
        "outputId": "01742770-e40a-402d-ec15-c223958d0cf6"
      },
      "outputs": [
        {
          "output_type": "stream",
          "name": "stdout",
          "text": [
            "The mse of our RidgeLs implementation 33.91448976327217\n"
          ]
        }
      ],
      "source": [
        "ridge_model = RidgeLs(0.2)\n",
        "ridge_model.fit(X_train, y_train)\n",
        "\n",
        "mse_ridge_model = ridge_model.score(X_test, y_test)\n",
        "print(f'The mse of our RidgeLs implementation {mse_ridge_model}')"
      ]
    },
    {
      "cell_type": "code",
      "execution_count": 108,
      "metadata": {
        "colab": {
          "base_uri": "https://localhost:8080/"
        },
        "id": "tWhPYVKqdLwf",
        "outputId": "dbc36d29-94d6-4e7e-e25b-3f59edc41d40"
      },
      "outputs": [
        {
          "output_type": "stream",
          "name": "stdout",
          "text": [
            "The mse of our RidgeLsGd implementation 2533139.0584954284\n"
          ]
        }
      ],
      "source": [
        "ridge_gd_model = RidgeLsGd(0.1\n",
        "                           , learning_rate=.05\n",
        "                           , num_iteration=2\n",
        "                          )\n",
        "ridge_gd_model._fit(X_train, y_train)\n",
        "\n",
        "mse_ridge_gd_model = ridge_gd_model.score(X_test, y_test)\n",
        "print(f'The mse of our RidgeLsGd implementation {mse_ridge_gd_model}')"
      ]
    },
    {
      "cell_type": "markdown",
      "metadata": {
        "id": "ZHw8xUY6dLwf"
      },
      "source": [
        "### Use scikitlearn implementation for OLS, Ridge and Lasso"
      ]
    },
    {
      "cell_type": "markdown",
      "source": [
        "## OLS"
      ],
      "metadata": {
        "id": "m3Gd8EWRxFHx"
      }
    },
    {
      "cell_type": "code",
      "execution_count": 109,
      "metadata": {
        "colab": {
          "base_uri": "https://localhost:8080/"
        },
        "id": "GKpsjQx7dLwf",
        "outputId": "fa80a5d9-06d0-4d6c-e6f9-b44a27635dd0"
      },
      "outputs": [
        {
          "output_type": "stream",
          "name": "stdout",
          "text": [
            "The mse of sklearn implementation 33.2689185579199\n"
          ]
        }
      ],
      "source": [
        "from sklearn.linear_model import LinearRegression\n",
        "lm = LinearRegression()\n",
        "lm.fit(X_train,y_train)\n",
        "y_pred_sklearn = lm.predict(X_test)\n",
        "mse_sklearn = mean_squared_error(y_test, y_pred_sklearn)\n",
        "print(f'The mse of sklearn implementation {mse_sklearn}')\n"
      ]
    },
    {
      "cell_type": "markdown",
      "source": [
        "## Ridge"
      ],
      "metadata": {
        "id": "NM93Xf6gxIgL"
      }
    },
    {
      "cell_type": "code",
      "source": [
        "from sklearn.linear_model import Lasso\n",
        "lm = Lasso(0.2)\n",
        "lm.fit(X_train,y_train)\n",
        "y_pred_sklearn = lm.predict(X_test)\n",
        "mse_sklearn = mean_squared_error(y_test, y_pred_sklearn)\n",
        "print(f'The mse of sklearn implementation {mse_sklearn}')\n"
      ],
      "metadata": {
        "colab": {
          "base_uri": "https://localhost:8080/"
        },
        "id": "2PR7il4vxPo2",
        "outputId": "a097c691-d22d-4e0f-8ce1-f7884d288091"
      },
      "execution_count": 111,
      "outputs": [
        {
          "output_type": "stream",
          "name": "stdout",
          "text": [
            "The mse of sklearn implementation 34.58149411697114\n"
          ]
        }
      ]
    },
    {
      "cell_type": "markdown",
      "source": [
        "## Lasso"
      ],
      "metadata": {
        "id": "mi03wBCVxMjz"
      }
    },
    {
      "cell_type": "code",
      "source": [
        "from sklearn.linear_model import Ridge\n",
        "lm = Ridge(0.6)\n",
        "lm.fit(X_train,y_train)\n",
        "y_pred_sklearn = lm.predict(X_test)\n",
        "mse_sklearn = mean_squared_error(y_test, y_pred_sklearn)\n",
        "print(f'The mse of sklearn implementation {mse_sklearn}')"
      ],
      "metadata": {
        "colab": {
          "base_uri": "https://localhost:8080/"
        },
        "id": "yUYZUu2oxNQG",
        "outputId": "44bc2250-3ef8-4c69-8093-b7f87fcd142d"
      },
      "execution_count": 112,
      "outputs": [
        {
          "output_type": "stream",
          "name": "stdout",
          "text": [
            "The mse of sklearn implementation 33.65227126437283\n"
          ]
        }
      ]
    }
  ],
  "metadata": {
    "colab": {
      "provenance": []
    },
    "kernelspec": {
      "display_name": "Python 3 (ipykernel)",
      "language": "python",
      "name": "python3"
    },
    "language_info": {
      "codemirror_mode": {
        "name": "ipython",
        "version": 3
      },
      "file_extension": ".py",
      "mimetype": "text/x-python",
      "name": "python",
      "nbconvert_exporter": "python",
      "pygments_lexer": "ipython3",
      "version": "3.9.13"
    }
  },
  "nbformat": 4,
  "nbformat_minor": 0
}